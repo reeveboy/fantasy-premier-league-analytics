{
  "nbformat": 4,
  "nbformat_minor": 0,
  "metadata": {
    "colab": {
      "provenance": [],
      "include_colab_link": true
    },
    "kernelspec": {
      "name": "python3",
      "display_name": "Python 3"
    },
    "language_info": {
      "name": "python"
    }
  },
  "cells": [
    {
      "cell_type": "markdown",
      "metadata": {
        "id": "view-in-github",
        "colab_type": "text"
      },
      "source": [
        "<a href=\"https://colab.research.google.com/github/reeveboy/fantasy-premier-league-analytics/blob/main/feature_engineering_%26_modelling.ipynb\" target=\"_parent\"><img src=\"https://colab.research.google.com/assets/colab-badge.svg\" alt=\"Open In Colab\"/></a>"
      ]
    },
    {
      "cell_type": "code",
      "execution_count": null,
      "metadata": {
        "colab": {
          "base_uri": "https://localhost:8080/"
        },
        "id": "P3_8NM5Wu9iG",
        "outputId": "a3d2333f-8729-4df7-a2d4-4b922c55b228"
      },
      "outputs": [
        {
          "output_type": "stream",
          "name": "stdout",
          "text": [
            "Drive already mounted at /content/drive; to attempt to forcibly remount, call drive.mount(\"/content/drive\", force_remount=True).\n"
          ]
        }
      ],
      "source": [
        "from google.colab import drive\n",
        "drive.mount('/content/drive')"
      ]
    },
    {
      "cell_type": "code",
      "source": [
        "import pandas as pd\n",
        "import numpy as np\n",
        "import seaborn as sns\n",
        "import matplotlib.pyplot as plt\n",
        "from tqdm import tqdm"
      ],
      "metadata": {
        "id": "kqeSQl0EvBd4"
      },
      "execution_count": null,
      "outputs": []
    },
    {
      "cell_type": "code",
      "source": [
        "data_df = pd.read_csv('/content/drive/MyDrive/datasets/FPL/clean_data.csv')"
      ],
      "metadata": {
        "id": "ZcPyV0DDIUOc"
      },
      "execution_count": null,
      "outputs": []
    },
    {
      "cell_type": "code",
      "source": [
        "data_df.drop(['Unnamed: 0', 'fixture', 'round', 'kickoff_time'], axis=1, inplace=True)"
      ],
      "metadata": {
        "id": "66SfsgXgItam"
      },
      "execution_count": null,
      "outputs": []
    },
    {
      "cell_type": "code",
      "source": [
        "data_df.rename(columns={\n",
        "    'opponent_team': 'opponent',\n",
        "    'GW': 'gameweek',\n",
        "    'total_points': 'points',\n",
        "    'minutes': 'minutes_played',\n",
        "}, inplace=True)"
      ],
      "metadata": {
        "id": "RcdXIsZKqK13"
      },
      "execution_count": null,
      "outputs": []
    },
    {
      "cell_type": "markdown",
      "source": [
        "## Now let's do Feature Engineering!"
      ],
      "metadata": {
        "id": "bMRgWrfqnRut"
      }
    },
    {
      "cell_type": "markdown",
      "source": [
        "I honestly got too excited and got carried away and ended up adding a bunch of features"
      ],
      "metadata": {
        "id": "3S831VsMszHD"
      }
    },
    {
      "cell_type": "code",
      "source": [
        "def calc_result(row):\n",
        "    if (row['was_home'] and (row['team_h_score'] > row['team_a_score'])) or ((not row['was_home']) and (row['team_a_score'] > row['team_h_score'])):\n",
        "        return 'W'\n",
        "    elif (row['was_home'] and (row['team_h_score'] < row['team_a_score'])) or ((not row['was_home']) and (row['team_a_score'] < row['team_h_score'])):\n",
        "        return 'L'\n",
        "    return 'D'\n",
        "\n",
        "# Add win/loss/draw column based on match result\n",
        "data_df['result'] = data_df.apply(calc_result, axis=1)"
      ],
      "metadata": {
        "id": "p3BDexBcASkb"
      },
      "execution_count": null,
      "outputs": []
    },
    {
      "cell_type": "code",
      "source": [
        "def add_sliding_window_features(df, window_size):\n",
        "  df_index = df.assign(index=df.index)\n",
        "\n",
        "  features = []\n",
        "  for season, player_data in df_index.groupby(['season', 'name']):\n",
        "    player_data = player_data.sort_values(by='gameweek')  # Sort by gameweek\n",
        "\n",
        "    window_data = []\n",
        "    total_points = total_minutes_played = total_yellow_cards = total_red_cards = total_goals_scored = total_assists = total_clean_sheets = total_saves = total_penalties_saved = total_wins = total_losses = total_draws = team_goals_scored = team_goals_conceded = 0\n",
        "    for i, row in player_data.iterrows():\n",
        "      # Append current row data to window\n",
        "      window_data.append(row.to_dict())  # Convert row to dictionary for window\n",
        "\n",
        "      # Calculate features, and append\n",
        "      new_features = calculate_features(window_data, window_size, row['index'], row['position'])\n",
        "\n",
        "      total_points += row['points']\n",
        "      total_minutes_played += row['minutes_played']\n",
        "      total_yellow_cards += row['yellow_cards']\n",
        "      total_red_cards += row['red_cards']\n",
        "      total_goals_scored += row['goals_scored']\n",
        "      total_assists += row['assists']\n",
        "      total_clean_sheets += row['clean_sheets']\n",
        "      total_saves += row['saves']\n",
        "      total_penalties_saved += row['penalties_saved']\n",
        "      total_wins += 1 if row['result'] == 'W' else 0\n",
        "      total_losses += 1 if row['result'] == 'L' else 0\n",
        "      total_draws += 1 if row['result'] == 'D' else 0\n",
        "      team_goals_scored += row['team_h_score'] if row['was_home'] else row['team_a_score']\n",
        "      team_goals_conceded += row['team_a_score'] if row['was_home'] else row['team_h_score']\n",
        "\n",
        "      new_features.update({\n",
        "          'total_points': total_points,\n",
        "          'total_minutes_played': total_minutes_played,\n",
        "          'total_yellow_cards': total_yellow_cards,\n",
        "          'total_red_cards': total_red_cards,\n",
        "          'total_goals_scored': total_goals_scored,\n",
        "          'total_assists': total_assists,\n",
        "          'total_saves': total_saves,\n",
        "          'total_penalties_saved': total_penalties_saved,\n",
        "          'total_wins': total_wins,\n",
        "          'total_losses': total_losses,\n",
        "          'total_draws': total_draws,\n",
        "          'team_goals_scored': team_goals_scored,\n",
        "          'team_goals_conceded': team_goals_conceded,\n",
        "        })\n",
        "      features.append(new_features)\n",
        "\n",
        "      # Check if window size is reached\n",
        "      if len(window_data) == window_size:\n",
        "        window_data.pop(0)  # Slide the window\n",
        "\n",
        "  # Combine features with original data\n",
        "  df_with_features = pd.merge(df_index, pd.DataFrame(features), on='index', how='inner').drop('index', axis=1)\n",
        "  return df_with_features\n",
        "\n",
        "# Function to calculate features based on the window data (replace with your calculations)\n",
        "def calculate_features(window_data, window_size, index, position):\n",
        "  weight = len(window_data) / window_size\n",
        "\n",
        "  n_games = len(window_data)\n",
        "\n",
        "  position_weights = {'FWD': 1.0, 'MID': 1.2, 'DEF': 1.4, 'GK': 1.6}\n",
        "\n",
        "  # Extract relevant features for form calculation\n",
        "  total_points = total_minutes = total_yellow_cards = total_red_cards = total_goals_conceded = total_own_goals = total_goals_scored = total_assists = total_clean_sheets = total_saves = total_value = total_transfers_balance = total_selected = total_wins = total_losses = total_draws = team_goals_scored = team_goals_conceded = total_ict = 0\n",
        "\n",
        "  for row in window_data:\n",
        "    total_points += row['points']\n",
        "    total_minutes += row['minutes_played']\n",
        "    total_yellow_cards += row['yellow_cards']\n",
        "    total_red_cards += row['red_cards']\n",
        "    total_goals_conceded += row['goals_conceded']\n",
        "    total_own_goals += row['own_goals']\n",
        "    total_goals_scored += row['goals_scored']\n",
        "    total_assists += row['assists']\n",
        "    total_clean_sheets += row['clean_sheets']\n",
        "    total_saves += row['saves']\n",
        "    total_value += row['value']\n",
        "    total_transfers_balance += row['transfers_balance']\n",
        "    total_selected += row['selected']\n",
        "    total_wins += 1 if row['result'] == 'W' else 0\n",
        "    total_losses += 1 if row['result'] == 'L' else 0\n",
        "    total_draws += 1 if row['result'] == 'D' else 0\n",
        "    team_goals_scored += row['team_h_score'] if row['was_home'] else row['team_a_score']\n",
        "    team_goals_conceded += row['team_a_score'] if row['was_home'] else row['team_h_score']\n",
        "    total_ict = row['ict_index']\n",
        "\n",
        "  total_minutes_per_90 = total_minutes / 90\n",
        "  avg_value = total_value / n_games\n",
        "  avg_transfer_balance = total_transfers_balance / n_games\n",
        "  avg_selected = total_selected / n_games\n",
        "  team_form = ((total_wins * 1.5) + (total_draws * 0.5) + (total_losses * -1)) * weight\n",
        "\n",
        "  # Calculate form (consider cases where minutes might be missing)\n",
        "  if total_minutes_per_90 == 0:\n",
        "    total_minutes_per_90 = 1\n",
        "\n",
        "  form = ((total_points + total_ict) / n_games) * weight * position_weights[position]\n",
        "  heat = ((total_yellow_cards + total_red_cards + total_goals_conceded + total_own_goals) / n_games) * weight\n",
        "  goal_involvement = ((total_goals_scored + total_assists) / n_games) * weight * position_weights[position]\n",
        "  defensive_contribution = ((total_clean_sheets + total_saves) / n_games) * weight * position_weights[position]\n",
        "  value_for_price = ((total_points / avg_value) / n_games) * weight * position_weights[position]\n",
        "  minutes_per_game = (total_minutes_per_90 / n_games) * weight\n",
        "  popularity = (avg_transfer_balance / (avg_selected + 1e6)) * weight\n",
        "  offensive_score = (team_goals_scored / n_games) * weight * position_weights[position]\n",
        "  defensive_score = ((team_goals_conceded + total_clean_sheets) / n_games) * weight * position_weights[position]\n",
        "\n",
        "  return {\n",
        "      'index': index,\n",
        "      'form': form,\n",
        "      'heat': heat,\n",
        "      'goal_involvement': goal_involvement,\n",
        "      'defensive_contribution': defensive_contribution,\n",
        "      'value_for_price': value_for_price,\n",
        "      'minutes_per_game': minutes_per_game,\n",
        "      'team_form': team_form,\n",
        "      'team_offensive_score': offensive_score,\n",
        "      'team_defensive_score': defensive_score,\n",
        "    }\n",
        "\n",
        "new_data = add_sliding_window_features(data_df, 5)"
      ],
      "metadata": {
        "id": "n2rtjR0PxgzS"
      },
      "execution_count": null,
      "outputs": []
    },
    {
      "cell_type": "code",
      "source": [
        "new_data.shape"
      ],
      "metadata": {
        "colab": {
          "base_uri": "https://localhost:8080/"
        },
        "id": "Am94eRO2IvnV",
        "outputId": "fdcc45ff-b791-4f96-ed97-7341e17a850b"
      },
      "execution_count": null,
      "outputs": [
        {
          "output_type": "execute_result",
          "data": {
            "text/plain": [
              "(185295, 56)"
            ]
          },
          "metadata": {},
          "execution_count": 35
        }
      ]
    },
    {
      "cell_type": "code",
      "source": [
        "numeric_cols = new_data.select_dtypes(include=['number'])\n",
        "numeric_cols.drop(['gameweek', 'points',], axis=1, inplace=True)"
      ],
      "metadata": {
        "id": "a0zaHP1BhPIS"
      },
      "execution_count": null,
      "outputs": []
    },
    {
      "cell_type": "code",
      "source": [
        "numeric_cols.columns"
      ],
      "metadata": {
        "colab": {
          "base_uri": "https://localhost:8080/"
        },
        "id": "0I_m4IkShQ1I",
        "outputId": "31e187e2-1c28-4a9d-faca-48fbcd2f023c"
      },
      "execution_count": null,
      "outputs": [
        {
          "output_type": "execute_result",
          "data": {
            "text/plain": [
              "Index(['assists', 'bonus', 'bps', 'clean_sheets', 'creativity', 'element',\n",
              "       'goals_conceded', 'goals_scored', 'ict_index', 'influence',\n",
              "       'minutes_played', 'own_goals', 'penalties_missed', 'penalties_saved',\n",
              "       'red_cards', 'saves', 'selected', 'team_a_score', 'team_h_score',\n",
              "       'threat', 'transfers_balance', 'transfers_in', 'transfers_out', 'value',\n",
              "       'yellow_cards', 'form', 'heat', 'goal_involvement',\n",
              "       'defensive_contribution', 'value_for_price', 'minutes_per_game',\n",
              "       'team_form', 'team_offensive_score', 'team_defensive_score',\n",
              "       'total_points', 'total_minutes_played', 'total_yellow_cards',\n",
              "       'total_red_cards', 'total_goals_scored', 'total_assists', 'total_saves',\n",
              "       'total_penalties_saved', 'total_wins', 'total_losses', 'total_draws',\n",
              "       'team_goals_scored', 'team_goals_conceded'],\n",
              "      dtype='object')"
            ]
          },
          "metadata": {},
          "execution_count": 37
        }
      ]
    },
    {
      "cell_type": "markdown",
      "source": [
        "### Using Correlation to select features"
      ],
      "metadata": {
        "id": "5Sx-higNmXxO"
      }
    },
    {
      "cell_type": "code",
      "source": [
        "# Calculate the correlation matrix\n",
        "correlation_matrix = numeric_cols.corr()\n",
        "\n",
        "# Create a heatmap to visualize the correlation matrix\n",
        "sns.heatmap(correlation_matrix, vmin=-1, vmax=1, cmap='coolwarm')\n",
        "\n",
        "# Customize the plot (optional)\n",
        "plt.title('Correlation Matrix')\n",
        "plt.show()"
      ],
      "metadata": {
        "colab": {
          "base_uri": "https://localhost:8080/",
          "height": 597
        },
        "id": "gLCwKwOHI4h2",
        "outputId": "17d72a36-0e51-4ede-fa7f-7ba44ca4036e"
      },
      "execution_count": null,
      "outputs": [
        {
          "output_type": "display_data",
          "data": {
            "text/plain": [
              "<Figure size 640x480 with 2 Axes>"
            ],
            "image/png": "[encoded data removed]"
          },
          "metadata": {}
        }
      ]
    },
    {
      "cell_type": "code",
      "source": [
        "# Set the threshold for correlation\n",
        "threshold = 0.75  # You can adjust this threshold as needed\n",
        "\n",
        "# Create a list to store highly correlated features\n",
        "highly_correlated_features = []\n",
        "\n",
        "# Iterate through the correlation matrix\n",
        "for i in range(len(correlation_matrix.columns)):\n",
        "    for j in range(i+1, len(correlation_matrix.columns)):\n",
        "        if abs(correlation_matrix.iloc[i, j]) >= threshold:\n",
        "            # Check if the correlation is above the threshold\n",
        "            feature1 = correlation_matrix.columns[i]\n",
        "            feature2 = correlation_matrix.columns[j]\n",
        "            correlation = correlation_matrix.iloc[i, j]\n",
        "            highly_correlated_features.append((feature1, feature2, correlation))\n",
        "\n",
        "# Print highly correlated features\n",
        "for feature1, feature2, correlation in highly_correlated_features:\n",
        "    print(f\"{feature1} and {feature2} are highly correlated: {correlation}\")\n"
      ],
      "metadata": {
        "colab": {
          "base_uri": "https://localhost:8080/"
        },
        "id": "taiYk0pojTBO",
        "outputId": "d94b4c60-0887-4374-bb3f-1048fc63e236"
      },
      "execution_count": null,
      "outputs": [
        {
          "output_type": "stream",
          "name": "stdout",
          "text": [
            "bps and ict_index are highly correlated: 0.7824038001502858\n",
            "bps and influence are highly correlated: 0.9009472723553335\n",
            "bps and minutes_played are highly correlated: 0.7610450156329109\n",
            "bps and form are highly correlated: 0.7686452671250374\n",
            "creativity and ict_index are highly correlated: 0.7755281432409998\n",
            "ict_index and influence are highly correlated: 0.8474938188039435\n",
            "ict_index and threat are highly correlated: 0.8367377733355079\n",
            "ict_index and form are highly correlated: 0.7533376089192904\n",
            "minutes_played and form are highly correlated: 0.7567359078825014\n",
            "minutes_played and minutes_per_game are highly correlated: 0.7812557720012545\n",
            "saves and defensive_contribution are highly correlated: 0.7986983615660237\n",
            "form and value_for_price are highly correlated: 0.9268870370726222\n",
            "form and minutes_per_game are highly correlated: 0.8068030609772222\n",
            "heat and minutes_per_game are highly correlated: 0.8079081944479642\n",
            "defensive_contribution and total_saves are highly correlated: 0.7904548960661344\n",
            "value_for_price and minutes_per_game are highly correlated: 0.8143652722630899\n",
            "total_points and total_minutes_played are highly correlated: 0.9155911932830737\n",
            "total_wins and team_goals_scored are highly correlated: 0.9536931923591134\n",
            "total_losses and team_goals_conceded are highly correlated: 0.9287396238855673\n"
          ]
        }
      ]
    },
    {
      "cell_type": "markdown",
      "source": [
        "By looking at this i think **bps, creativity, influence, threat, total_minutes_played, total_wins, total_losses** can be removed"
      ],
      "metadata": {
        "id": "AfxSOQCujynR"
      }
    },
    {
      "cell_type": "markdown",
      "source": [
        "### Using Variance Inflation Factor to detect multicollinearity"
      ],
      "metadata": {
        "id": "Yu8GDN-3m3ts"
      }
    },
    {
      "cell_type": "code",
      "source": [
        "from statsmodels.stats.outliers_influence import variance_inflation_factor\n",
        "\n",
        "# Calculate VIF for each feature\n",
        "vif = [variance_inflation_factor(numeric_cols.values, i) for i in range(numeric_cols.shape[1])]\n",
        "\n",
        "# Print the VIF values\n",
        "print(\"VIF values for each feature:\")\n",
        "for i, v in enumerate(vif):\n",
        "  print(f\"{numeric_cols.columns[i]}: {v:.2f}\")\n",
        "\n",
        "# Identify features with high VIF (> 5)\n",
        "high_vif_features = [numeric_cols.columns[i] for i, v in enumerate(vif) if v > 5]\n",
        "\n",
        "if high_vif_features:\n",
        "  print(\"\\nFeatures with high VIF (> 5):\")\n",
        "  print(high_vif_features)\n",
        "else:\n",
        "  print(\"\\nNo features with high VIF detected.\")"
      ],
      "metadata": {
        "colab": {
          "base_uri": "https://localhost:8080/"
        },
        "id": "rHc4QQCImgkO",
        "outputId": "c1f06aa9-68a0-439a-bfb2-2a3622bf113b"
      },
      "execution_count": null,
      "outputs": [
        {
          "output_type": "stream",
          "name": "stdout",
          "text": [
            "VIF values for each feature:\n",
            "assists: 2.03\n",
            "bonus: 2.46\n",
            "bps: 16.61\n",
            "clean_sheets: 2.82\n",
            "creativity: 1147.42\n",
            "element: 3.73\n",
            "goals_conceded: 4.74\n",
            "goals_scored: 5.27\n",
            "ict_index: 9965.00\n",
            "influence: 1813.19\n",
            "minutes_played: 15.31\n",
            "own_goals: 1.01\n",
            "penalties_missed: 1.02\n",
            "penalties_saved: 1.11\n",
            "red_cards: 1.08\n",
            "saves: 3.83\n",
            "selected: 2.76\n",
            "team_a_score: 2.63\n",
            "team_h_score: 3.14\n",
            "threat: 1666.42\n",
            "transfers_balance: 595997.27\n",
            "transfers_in: 460311.52\n",
            "transfers_out: 355028.49\n",
            "value: 13.54\n",
            "yellow_cards: 1.33\n",
            "form: 122.27\n",
            "heat: 8.33\n",
            "goal_involvement: 8.08\n",
            "defensive_contribution: 8.02\n",
            "value_for_price: 48.83\n",
            "minutes_per_game: 23.96\n",
            "team_form: 7.09\n",
            "team_offensive_score: 17.46\n",
            "team_defensive_score: 16.74\n",
            "total_points: 73.84\n",
            "total_minutes_played: 45.72\n",
            "total_yellow_cards: 3.74\n",
            "total_red_cards: 1.15\n",
            "total_goals_scored: 7.48\n",
            "total_assists: 4.86\n",
            "total_saves: 4.50\n",
            "total_penalties_saved: 1.51\n",
            "total_wins: 48.58\n",
            "total_losses: 41.14\n",
            "total_draws: 7.10\n",
            "team_goals_scored: 80.14\n",
            "team_goals_conceded: 80.06\n",
            "\n",
            "Features with high VIF (> 5):\n",
            "['bps', 'creativity', 'goals_scored', 'ict_index', 'influence', 'minutes_played', 'threat', 'transfers_balance', 'transfers_in', 'transfers_out', 'value', 'form', 'heat', 'goal_involvement', 'defensive_contribution', 'value_for_price', 'minutes_per_game', 'team_form', 'team_offensive_score', 'team_defensive_score', 'total_points', 'total_minutes_played', 'total_goals_scored', 'total_wins', 'total_losses', 'total_draws', 'team_goals_scored', 'team_goals_conceded']\n"
          ]
        }
      ]
    },
    {
      "cell_type": "markdown",
      "source": [
        "Seem like we hace to drop a bunch of these"
      ],
      "metadata": {
        "id": "IOc8zNVVnAfM"
      }
    },
    {
      "cell_type": "markdown",
      "source": [
        "### Selecting useful features by using Lasso Regression"
      ],
      "metadata": {
        "id": "gUztP5uwogra"
      }
    },
    {
      "cell_type": "code",
      "source": [
        "from sklearn.linear_model import Lasso\n",
        "from sklearn.feature_selection import SelectFromModel\n",
        "\n",
        "X = numeric_cols\n",
        "y = data_df['points']\n",
        "\n",
        "# Assuming X is your features data and y is points for the next game\n",
        "lasso_model = Lasso(alpha=0.01)  # Adjust alpha hyperparameter as needed\n",
        "lasso_model.fit(X, y)\n",
        "\n",
        "# Select features based on model coefficients\n",
        "feature_selector = SelectFromModel(lasso_model, prefit=True)  # Pre-fit the model\n",
        "X_reduced = feature_selector.transform(X)\n",
        "\n",
        "# Get selected features\n",
        "selected_features = X.columns[feature_selector.get_support()]\n",
        "\n",
        "not_selected = [feature for feature in X.columns if feature not in selected_features]\n",
        "print(f\"Features not selected by Lasso regression: \\n{not_selected}\\n\")"
      ],
      "metadata": {
        "colab": {
          "base_uri": "https://localhost:8080/"
        },
        "id": "8VRqINksodMd",
        "outputId": "c496ecd5-f2bb-4dd9-d627-d38a20c78bbe"
      },
      "execution_count": null,
      "outputs": [
        {
          "output_type": "stream",
          "name": "stdout",
          "text": [
            "Features not selected by Lasso regression: \n",
            "['element', 'ict_index', 'own_goals', 'penalties_missed', 'penalties_saved', 'red_cards', 'selected', 'team_a_score', 'transfers_balance', 'transfers_in', 'transfers_out', 'heat', 'goal_involvement', 'defensive_contribution', 'value_for_price', 'team_offensive_score', 'total_yellow_cards', 'total_red_cards', 'total_assists', 'total_saves', 'total_penalties_saved', 'total_wins', 'total_losses', 'total_draws']\n",
            "\n"
          ]
        },
        {
          "output_type": "stream",
          "name": "stderr",
          "text": [
            "/usr/local/lib/python3.10/dist-packages/sklearn/linear_model/_coordinate_descent.py:631: ConvergenceWarning: Objective did not converge. You might want to increase the number of iterations, check the scale of the features or consider increasing regularisation. Duality gap: 7.302e+03, tolerance: 1.123e+02\n",
            "  model = cd_fast.enet_coordinate_descent(\n",
            "/usr/local/lib/python3.10/dist-packages/sklearn/base.py:432: UserWarning: X has feature names, but SelectFromModel was fitted without feature names\n",
            "  warnings.warn(\n"
          ]
        }
      ]
    },
    {
      "cell_type": "markdown",
      "source": [
        "After some short careful thinking I decide these will go"
      ],
      "metadata": {
        "id": "xd49TIF7v-l0"
      }
    },
    {
      "cell_type": "code",
      "source": [
        "dropped_cols = [\n",
        "    'own_goals',\n",
        "    'penalties_missed',\n",
        "    'penalties_saved',\n",
        "    'saves',\n",
        "    'total_saves',\n",
        "    'yellow_cards',\n",
        "    'red_cards',\n",
        "    'selected',\n",
        "    'team_a_score',\n",
        "    'team_h_score',\n",
        "    'bps',\n",
        "    'ict_index',\n",
        "    'minutes_played',\n",
        "    'transfers_balance',\n",
        "    'value',\n",
        "    'transfers_in',\n",
        "    'transfers_out',\n",
        "    'creativity',\n",
        "    'influence',\n",
        "    'threat',\n",
        "    'total_penalties_saved',\n",
        "    'total_minutes_played',\n",
        "    'total_red_cards',\n",
        "    'total_wins',\n",
        "    'total_losses',\n",
        "    'total_draws',\n",
        "    'team_goals_scored',\n",
        "    'team_goals_conceded',\n",
        "    # 'total_points',\n",
        "]\n",
        "data = new_data.drop([cols for cols in dropped_cols if cols in new_data.columns], axis=1)"
      ],
      "metadata": {
        "id": "cTvBSKu1ncXn"
      },
      "execution_count": null,
      "outputs": []
    },
    {
      "cell_type": "code",
      "source": [
        "data.columns"
      ],
      "metadata": {
        "colab": {
          "base_uri": "https://localhost:8080/"
        },
        "id": "1bTbE8tQcTAk",
        "outputId": "66973a9b-e0bc-4eba-e236-ae405be8b919"
      },
      "execution_count": null,
      "outputs": [
        {
          "output_type": "execute_result",
          "data": {
            "text/plain": [
              "Index(['name', 'assists', 'bonus', 'clean_sheets', 'element', 'goals_conceded',\n",
              "       'goals_scored', 'points', 'was_home', 'gameweek', 'season', 'position',\n",
              "       'team', 'opponent', 'result', 'form', 'heat', 'goal_involvement',\n",
              "       'defensive_contribution', 'value_for_price', 'minutes_per_game',\n",
              "       'team_form', 'team_offensive_score', 'team_defensive_score',\n",
              "       'total_points', 'total_yellow_cards', 'total_goals_scored',\n",
              "       'total_assists'],\n",
              "      dtype='object')"
            ]
          },
          "metadata": {},
          "execution_count": 43
        }
      ]
    },
    {
      "cell_type": "markdown",
      "source": [
        "### Preping the data for training"
      ],
      "metadata": {
        "id": "n-AdvXoY20wd"
      }
    },
    {
      "cell_type": "markdown",
      "source": [
        "Cleaning up a few things before I dig into the processing"
      ],
      "metadata": {
        "id": "0kIokWkwpSPJ"
      }
    },
    {
      "cell_type": "code",
      "source": [
        "data = data[data['gameweek'] <= 38]\n",
        "data.loc[data['team'] == 'Sheffield Utd', 'team'] = 'Sheffield United'\n",
        "data.loc[data['opponent'] == 'Huddersfield', 'opponent'] = 'Huddersfield Town'\n",
        "data.loc[data['opponent'] == 'West Brom', 'opponent'] = 'West Bromwich Albion'\n",
        "data.loc[:, 'team'] = data['team'].str.lower().str.replace(' ', '_')\n",
        "data.loc[:, 'opponent'] = data['opponent'].str.lower().str.replace(' ', '_')"
      ],
      "metadata": {
        "id": "vLXv8Pkhlrnd"
      },
      "execution_count": null,
      "outputs": []
    },
    {
      "cell_type": "markdown",
      "source": [
        "This code will generate the next_opponent and the next_points(y) that a player will score"
      ],
      "metadata": {
        "id": "epfjM5BJpXle"
      }
    },
    {
      "cell_type": "code",
      "source": [
        "# Sort the DataFrame by season, name, and gameweek\n",
        "data_sorted = data.sort_values(by=['season', 'name', 'gameweek'])\n",
        "\n",
        "# Group the sorted DataFrame by season and name\n",
        "grouped = data_sorted.groupby(['season', 'name'])\n",
        "\n",
        "# Define a function to add next opponent and next points\n",
        "def add_next_opponent_points(group):\n",
        "    group['next_opponent'] = group['opponent'].shift(-1)\n",
        "    group['next_points'] = group['points'].shift(-1)\n",
        "    return group\n",
        "\n",
        "# Apply the function to each group and handle None values for last entry in each group\n",
        "preped_data = grouped.apply(add_next_opponent_points).fillna({'next_opponent': 'None', 'next_points': 0})\n",
        "\n",
        "# Reset index to bring DataFrame back to ungrouped form\n",
        "preped_data.reset_index(drop=True, inplace=True)"
      ],
      "metadata": {
        "id": "yylGgwaOmQZv"
      },
      "execution_count": null,
      "outputs": []
    },
    {
      "cell_type": "markdown",
      "source": [
        "Let's have a look at how the data looks"
      ],
      "metadata": {
        "id": "lrPx44Erphxc"
      }
    },
    {
      "cell_type": "code",
      "source": [
        "preped_data.loc[preped_data['name'] == 'Kevin De Bruyne', ['name', 'points', 'opponent', 'next_points', 'next_opponent', 'season', 'gameweek']]"
      ],
      "metadata": {
        "colab": {
          "base_uri": "https://localhost:8080/",
          "height": 423
        },
        "id": "cVLvdIlBmiE8",
        "outputId": "4a69312a-a4e6-4e75-c330-9453f7ab25db"
      },
      "execution_count": null,
      "outputs": [
        {
          "output_type": "execute_result",
          "data": {
            "text/plain": [
              "                   name  points           opponent  next_points  \\\n",
              "13257   Kevin De Bruyne       2         sunderland          4.0   \n",
              "13258   Kevin De Bruyne       4         stoke_city          6.0   \n",
              "13259   Kevin De Bruyne       6    west_ham_united         13.0   \n",
              "13260   Kevin De Bruyne      13  manchester_united         14.0   \n",
              "13261   Kevin De Bruyne      14    afc_bournemouth         10.0   \n",
              "...                 ...     ...                ...          ...   \n",
              "171083  Kevin De Bruyne       7            burnley          5.0   \n",
              "171084  Kevin De Bruyne       5          brentford          4.0   \n",
              "171085  Kevin De Bruyne       4            everton          2.0   \n",
              "171086  Kevin De Bruyne       2            chelsea          0.0   \n",
              "171087  Kevin De Bruyne       0          brentford          0.0   \n",
              "\n",
              "            next_opponent   season  gameweek  \n",
              "13257          stoke_city  2016/17         1  \n",
              "13258     west_ham_united  2016/17         2  \n",
              "13259   manchester_united  2016/17         3  \n",
              "13260     afc_bournemouth  2016/17         4  \n",
              "13261        swansea_city  2016/17         5  \n",
              "...                   ...      ...       ...  \n",
              "171083          brentford  2023/24        22  \n",
              "171084            everton  2023/24        23  \n",
              "171085            chelsea  2023/24        24  \n",
              "171086          brentford  2023/24        25  \n",
              "171087               None  2023/24        25  \n",
              "\n",
              "[282 rows x 7 columns]"
            ],
            "text/html": [
              "\n",
              "  <div id=\"df-dae94762-7e2f-4935-b73c-b85f0d8d3844\" class=\"colab-df-container\">\n",
              "    <div>\n",
              "<style scoped>\n",
              "    .dataframe tbody tr th:only-of-type {\n",
              "        vertical-align: middle;\n",
              "    }\n",
              "\n",
              "    .dataframe tbody tr th {\n",
              "        vertical-align: top;\n",
              "    }\n",
              "\n",
              "    .dataframe thead th {\n",
              "        text-align: right;\n",
              "    }\n",
              "</style>\n",
              "<table border=\"1\" class=\"dataframe\">\n",
              "  <thead>\n",
              "    <tr style=\"text-align: right;\">\n",
              "      <th></th>\n",
              "      <th>name</th>\n",
              "      <th>points</th>\n",
              "      <th>opponent</th>\n",
              "      <th>next_points</th>\n",
              "      <th>next_opponent</th>\n",
              "      <th>season</th>\n",
              "      <th>gameweek</th>\n",
              "    </tr>\n",
              "  </thead>\n",
              "  <tbody>\n",
              "    <tr>\n",
              "      <th>13257</th>\n",
              "      <td>Kevin De Bruyne</td>\n",
              "      <td>2</td>\n",
              "      <td>sunderland</td>\n",
              "      <td>4.0</td>\n",
              "      <td>stoke_city</td>\n",
              "      <td>2016/17</td>\n",
              "      <td>1</td>\n",
              "    </tr>\n",
              "    <tr>\n",
              "      <th>13258</th>\n",
              "      <td>Kevin De Bruyne</td>\n",
              "      <td>4</td>\n",
              "      <td>stoke_city</td>\n",
              "      <td>6.0</td>\n",
              "      <td>west_ham_united</td>\n",
              "      <td>2016/17</td>\n",
              "      <td>2</td>\n",
              "    </tr>\n",
              "    <tr>\n",
              "      <th>13259</th>\n",
              "      <td>Kevin De Bruyne</td>\n",
              "      <td>6</td>\n",
              "      <td>west_ham_united</td>\n",
              "      <td>13.0</td>\n",
              "      <td>manchester_united</td>\n",
              "      <td>2016/17</td>\n",
              "      <td>3</td>\n",
              "    </tr>\n",
              "    <tr>\n",
              "      <th>13260</th>\n",
              "      <td>Kevin De Bruyne</td>\n",
              "      <td>13</td>\n",
              "      <td>manchester_united</td>\n",
              "      <td>14.0</td>\n",
              "      <td>afc_bournemouth</td>\n",
              "      <td>2016/17</td>\n",
              "      <td>4</td>\n",
              "    </tr>\n",
              "    <tr>\n",
              "      <th>13261</th>\n",
              "      <td>Kevin De Bruyne</td>\n",
              "      <td>14</td>\n",
              "      <td>afc_bournemouth</td>\n",
              "      <td>10.0</td>\n",
              "      <td>swansea_city</td>\n",
              "      <td>2016/17</td>\n",
              "      <td>5</td>\n",
              "    </tr>\n",
              "    <tr>\n",
              "      <th>...</th>\n",
              "      <td>...</td>\n",
              "      <td>...</td>\n",
              "      <td>...</td>\n",
              "      <td>...</td>\n",
              "      <td>...</td>\n",
              "      <td>...</td>\n",
              "      <td>...</td>\n",
              "    </tr>\n",
              "    <tr>\n",
              "      <th>171083</th>\n",
              "      <td>Kevin De Bruyne</td>\n",
              "      <td>7</td>\n",
              "      <td>burnley</td>\n",
              "      <td>5.0</td>\n",
              "      <td>brentford</td>\n",
              "      <td>2023/24</td>\n",
              "      <td>22</td>\n",
              "    </tr>\n",
              "    <tr>\n",
              "      <th>171084</th>\n",
              "      <td>Kevin De Bruyne</td>\n",
              "      <td>5</td>\n",
              "      <td>brentford</td>\n",
              "      <td>4.0</td>\n",
              "      <td>everton</td>\n",
              "      <td>2023/24</td>\n",
              "      <td>23</td>\n",
              "    </tr>\n",
              "    <tr>\n",
              "      <th>171085</th>\n",
              "      <td>Kevin De Bruyne</td>\n",
              "      <td>4</td>\n",
              "      <td>everton</td>\n",
              "      <td>2.0</td>\n",
              "      <td>chelsea</td>\n",
              "      <td>2023/24</td>\n",
              "      <td>24</td>\n",
              "    </tr>\n",
              "    <tr>\n",
              "      <th>171086</th>\n",
              "      <td>Kevin De Bruyne</td>\n",
              "      <td>2</td>\n",
              "      <td>chelsea</td>\n",
              "      <td>0.0</td>\n",
              "      <td>brentford</td>\n",
              "      <td>2023/24</td>\n",
              "      <td>25</td>\n",
              "    </tr>\n",
              "    <tr>\n",
              "      <th>171087</th>\n",
              "      <td>Kevin De Bruyne</td>\n",
              "      <td>0</td>\n",
              "      <td>brentford</td>\n",
              "      <td>0.0</td>\n",
              "      <td>None</td>\n",
              "      <td>2023/24</td>\n",
              "      <td>25</td>\n",
              "    </tr>\n",
              "  </tbody>\n",
              "</table>\n",
              "<p>282 rows × 7 columns</p>\n",
              "</div>\n",
              "    <div class=\"colab-df-buttons\">\n",
              "\n",
              "  <div class=\"colab-df-container\">\n",
              "    <button class=\"colab-df-convert\" onclick=\"convertToInteractive('df-dae94762-7e2f-4935-b73c-b85f0d8d3844')\"\n",
              "            title=\"Convert this dataframe to an interactive table.\"\n",
              "            style=\"display:none;\">\n",
              "\n",
              "  <svg xmlns=\"http://www.w3.org/2000/svg\" height=\"24px\" viewBox=\"0 -960 960 960\">\n",
              "    <path d=\"M120-120v-720h720v720H120Zm60-500h600v-160H180v160Zm220 220h160v-160H400v160Zm0 220h160v-160H400v160ZM180-400h160v-160H180v160Zm440 0h160v-160H620v160ZM180-180h160v-160H180v160Zm440 0h160v-160H620v160Z\"/>\n",
              "  </svg>\n",
              "    </button>\n",
              "\n",
              "  <style>\n",
              "    .colab-df-container {\n",
              "      display:flex;\n",
              "      gap: 12px;\n",
              "    }\n",
              "\n",
              "    .colab-df-convert {\n",
              "      background-color: #E8F0FE;\n",
              "      border: none;\n",
              "      border-radius: 50%;\n",
              "      cursor: pointer;\n",
              "      display: none;\n",
              "      fill: #1967D2;\n",
              "      height: 32px;\n",
              "      padding: 0 0 0 0;\n",
              "      width: 32px;\n",
              "    }\n",
              "\n",
              "    .colab-df-convert:hover {\n",
              "      background-color: #E2EBFA;\n",
              "      box-shadow: 0px 1px 2px rgba(60, 64, 67, 0.3), 0px 1px 3px 1px rgba(60, 64, 67, 0.15);\n",
              "      fill: #174EA6;\n",
              "    }\n",
              "\n",
              "    .colab-df-buttons div {\n",
              "      margin-bottom: 4px;\n",
              "    }\n",
              "\n",
              "    [theme=dark] .colab-df-convert {\n",
              "      background-color: #3B4455;\n",
              "      fill: #D2E3FC;\n",
              "    }\n",
              "\n",
              "    [theme=dark] .colab-df-convert:hover {\n",
              "      background-color: #434B5C;\n",
              "      box-shadow: 0px 1px 3px 1px rgba(0, 0, 0, 0.15);\n",
              "      filter: drop-shadow(0px 1px 2px rgba(0, 0, 0, 0.3));\n",
              "      fill: #FFFFFF;\n",
              "    }\n",
              "  </style>\n",
              "\n",
              "    <script>\n",
              "      const buttonEl =\n",
              "        document.querySelector('#df-dae94762-7e2f-4935-b73c-b85f0d8d3844 button.colab-df-convert');\n",
              "      buttonEl.style.display =\n",
              "        google.colab.kernel.accessAllowed ? 'block' : 'none';\n",
              "\n",
              "      async function convertToInteractive(key) {\n",
              "        const element = document.querySelector('#df-dae94762-7e2f-4935-b73c-b85f0d8d3844');\n",
              "        const dataTable =\n",
              "          await google.colab.kernel.invokeFunction('convertToInteractive',\n",
              "                                                    [key], {});\n",
              "        if (!dataTable) return;\n",
              "\n",
              "        const docLinkHtml = 'Like what you see? Visit the ' +\n",
              "          '<a target=\"_blank\" href=https://colab.research.google.com/notebooks/data_table.ipynb>data table notebook</a>'\n",
              "          + ' to learn more about interactive tables.';\n",
              "        element.innerHTML = '';\n",
              "        dataTable['output_type'] = 'display_data';\n",
              "        await google.colab.output.renderOutput(dataTable, element);\n",
              "        const docLink = document.createElement('div');\n",
              "        docLink.innerHTML = docLinkHtml;\n",
              "        element.appendChild(docLink);\n",
              "      }\n",
              "    </script>\n",
              "  </div>\n",
              "\n",
              "\n",
              "<div id=\"df-0e7158ee-c2bb-44ad-9395-30329055ac77\">\n",
              "  <button class=\"colab-df-quickchart\" onclick=\"quickchart('df-0e7158ee-c2bb-44ad-9395-30329055ac77')\"\n",
              "            title=\"Suggest charts\"\n",
              "            style=\"display:none;\">\n",
              "\n",
              "<svg xmlns=\"http://www.w3.org/2000/svg\" height=\"24px\"viewBox=\"0 0 24 24\"\n",
              "     width=\"24px\">\n",
              "    <g>\n",
              "        <path d=\"M19 3H5c-1.1 0-2 .9-2 2v14c0 1.1.9 2 2 2h14c1.1 0 2-.9 2-2V5c0-1.1-.9-2-2-2zM9 17H7v-7h2v7zm4 0h-2V7h2v10zm4 0h-2v-4h2v4z\"/>\n",
              "    </g>\n",
              "</svg>\n",
              "  </button>\n",
              "\n",
              "<style>\n",
              "  .colab-df-quickchart {\n",
              "      --bg-color: #E8F0FE;\n",
              "      --fill-color: #1967D2;\n",
              "      --hover-bg-color: #E2EBFA;\n",
              "      --hover-fill-color: #174EA6;\n",
              "      --disabled-fill-color: #AAA;\n",
              "      --disabled-bg-color: #DDD;\n",
              "  }\n",
              "\n",
              "  [theme=dark] .colab-df-quickchart {\n",
              "      --bg-color: #3B4455;\n",
              "      --fill-color: #D2E3FC;\n",
              "      --hover-bg-color: #434B5C;\n",
              "      --hover-fill-color: #FFFFFF;\n",
              "      --disabled-bg-color: #3B4455;\n",
              "      --disabled-fill-color: #666;\n",
              "  }\n",
              "\n",
              "  .colab-df-quickchart {\n",
              "    background-color: var(--bg-color);\n",
              "    border: none;\n",
              "    border-radius: 50%;\n",
              "    cursor: pointer;\n",
              "    display: none;\n",
              "    fill: var(--fill-color);\n",
              "    height: 32px;\n",
              "    padding: 0;\n",
              "    width: 32px;\n",
              "  }\n",
              "\n",
              "  .colab-df-quickchart:hover {\n",
              "    background-color: var(--hover-bg-color);\n",
              "    box-shadow: 0 1px 2px rgba(60, 64, 67, 0.3), 0 1px 3px 1px rgba(60, 64, 67, 0.15);\n",
              "    fill: var(--button-hover-fill-color);\n",
              "  }\n",
              "\n",
              "  .colab-df-quickchart-complete:disabled,\n",
              "  .colab-df-quickchart-complete:disabled:hover {\n",
              "    background-color: var(--disabled-bg-color);\n",
              "    fill: var(--disabled-fill-color);\n",
              "    box-shadow: none;\n",
              "  }\n",
              "\n",
              "  .colab-df-spinner {\n",
              "    border: 2px solid var(--fill-color);\n",
              "    border-color: transparent;\n",
              "    border-bottom-color: var(--fill-color);\n",
              "    animation:\n",
              "      spin 1s steps(1) infinite;\n",
              "  }\n",
              "\n",
              "  @keyframes spin {\n",
              "    0% {\n",
              "      border-color: transparent;\n",
              "      border-bottom-color: var(--fill-color);\n",
              "      border-left-color: var(--fill-color);\n",
              "    }\n",
              "    20% {\n",
              "      border-color: transparent;\n",
              "      border-left-color: var(--fill-color);\n",
              "      border-top-color: var(--fill-color);\n",
              "    }\n",
              "    30% {\n",
              "      border-color: transparent;\n",
              "      border-left-color: var(--fill-color);\n",
              "      border-top-color: var(--fill-color);\n",
              "      border-right-color: var(--fill-color);\n",
              "    }\n",
              "    40% {\n",
              "      border-color: transparent;\n",
              "      border-right-color: var(--fill-color);\n",
              "      border-top-color: var(--fill-color);\n",
              "    }\n",
              "    60% {\n",
              "      border-color: transparent;\n",
              "      border-right-color: var(--fill-color);\n",
              "    }\n",
              "    80% {\n",
              "      border-color: transparent;\n",
              "      border-right-color: var(--fill-color);\n",
              "      border-bottom-color: var(--fill-color);\n",
              "    }\n",
              "    90% {\n",
              "      border-color: transparent;\n",
              "      border-bottom-color: var(--fill-color);\n",
              "    }\n",
              "  }\n",
              "</style>\n",
              "\n",
              "  <script>\n",
              "    async function quickchart(key) {\n",
              "      const quickchartButtonEl =\n",
              "        document.querySelector('#' + key + ' button');\n",
              "      quickchartButtonEl.disabled = true;  // To prevent multiple clicks.\n",
              "      quickchartButtonEl.classList.add('colab-df-spinner');\n",
              "      try {\n",
              "        const charts = await google.colab.kernel.invokeFunction(\n",
              "            'suggestCharts', [key], {});\n",
              "      } catch (error) {\n",
              "        console.error('Error during call to suggestCharts:', error);\n",
              "      }\n",
              "      quickchartButtonEl.classList.remove('colab-df-spinner');\n",
              "      quickchartButtonEl.classList.add('colab-df-quickchart-complete');\n",
              "    }\n",
              "    (() => {\n",
              "      let quickchartButtonEl =\n",
              "        document.querySelector('#df-0e7158ee-c2bb-44ad-9395-30329055ac77 button');\n",
              "      quickchartButtonEl.style.display =\n",
              "        google.colab.kernel.accessAllowed ? 'block' : 'none';\n",
              "    })();\n",
              "  </script>\n",
              "</div>\n",
              "    </div>\n",
              "  </div>\n"
            ],
            "application/vnd.google.colaboratory.intrinsic+json": {
              "type": "dataframe",
              "summary": "{\n  \"name\": \"preped_data\",\n  \"rows\": 282,\n  \"fields\": [\n    {\n      \"column\": \"name\",\n      \"properties\": {\n        \"dtype\": \"category\",\n        \"num_unique_values\": 1,\n        \"samples\": [\n          \"Kevin De Bruyne\"\n        ],\n        \"semantic_type\": \"\",\n        \"description\": \"\"\n      }\n    },\n    {\n      \"column\": \"points\",\n      \"properties\": {\n        \"dtype\": \"number\",\n        \"std\": 4,\n        \"min\": 0,\n        \"max\": 24,\n        \"num_unique_values\": 20,\n        \"samples\": [\n          2\n        ],\n        \"semantic_type\": \"\",\n        \"description\": \"\"\n      }\n    },\n    {\n      \"column\": \"opponent\",\n      \"properties\": {\n        \"dtype\": \"category\",\n        \"num_unique_values\": 32,\n        \"samples\": [\n          \"brentford\"\n        ],\n        \"semantic_type\": \"\",\n        \"description\": \"\"\n      }\n    },\n    {\n      \"column\": \"next_points\",\n      \"properties\": {\n        \"dtype\": \"number\",\n        \"std\": 4.699002706476783,\n        \"min\": 0.0,\n        \"max\": 24.0,\n        \"num_unique_values\": 20,\n        \"samples\": [\n          4.0\n        ],\n        \"semantic_type\": \"\",\n        \"description\": \"\"\n      }\n    },\n    {\n      \"column\": \"next_opponent\",\n      \"properties\": {\n        \"dtype\": \"category\",\n        \"num_unique_values\": 33,\n        \"samples\": [\n          \"nottingham_forest\"\n        ],\n        \"semantic_type\": \"\",\n        \"description\": \"\"\n      }\n    },\n    {\n      \"column\": \"season\",\n      \"properties\": {\n        \"dtype\": \"category\",\n        \"num_unique_values\": 8,\n        \"samples\": [\n          \"2017/18\"\n        ],\n        \"semantic_type\": \"\",\n        \"description\": \"\"\n      }\n    },\n    {\n      \"column\": \"gameweek\",\n      \"properties\": {\n        \"dtype\": \"number\",\n        \"std\": 10,\n        \"min\": 1,\n        \"max\": 38,\n        \"num_unique_values\": 38,\n        \"samples\": [\n          36\n        ],\n        \"semantic_type\": \"\",\n        \"description\": \"\"\n      }\n    }\n  ]\n}"
            }
          },
          "metadata": {},
          "execution_count": 46
        }
      ]
    },
    {
      "cell_type": "markdown",
      "source": [
        "That seems good enough.\n",
        "\n",
        "Now to handle empty data"
      ],
      "metadata": {
        "id": "_FsO5ctiplpf"
      }
    },
    {
      "cell_type": "code",
      "source": [
        "print(f\"Gotta remove these empty rows: {len(preped_data.loc[preped_data['next_opponent'] == 'None'])}\")\n",
        "preped_data = preped_data[preped_data['next_opponent'] != 'None']"
      ],
      "metadata": {
        "colab": {
          "base_uri": "https://localhost:8080/"
        },
        "id": "aC-AsNWvfMcH",
        "outputId": "a6d2b85c-2fbf-4c01-d2df-6df9e402cb26"
      },
      "execution_count": null,
      "outputs": [
        {
          "output_type": "stream",
          "name": "stdout",
          "text": [
            "Gotta remove these empty rows: 5626\n"
          ]
        }
      ]
    },
    {
      "cell_type": "markdown",
      "source": [
        "### Encoding the Categorical Features"
      ],
      "metadata": {
        "id": "Y7pnJRcdpy6H"
      }
    },
    {
      "cell_type": "code",
      "source": [
        "from sklearn.preprocessing import LabelEncoder, OneHotEncoder\n",
        "\n",
        "encoded_data = preped_data.copy().drop('name', axis=1)\n",
        "\n",
        "# Label Encoding (for Linear Regression)\n",
        "categorical_features_le = ['season', 'gameweek', 'was_home', 'position', 'result']  # Features for Label Encoding\n",
        "le = LabelEncoder()\n",
        "for col in categorical_features_le:\n",
        "  encoded_data[col] = le.fit_transform(encoded_data[col])\n",
        "\n",
        "# One-Hot Encoding with pd.get_dummies\n",
        "categorical_features_ohe = ['team', 'opponent', 'next_opponent']\n",
        "encoded_data = pd.get_dummies(encoded_data, columns=categorical_features_ohe, drop_first=True)"
      ],
      "metadata": {
        "id": "nBwWkVUW0Qha"
      },
      "execution_count": null,
      "outputs": []
    },
    {
      "cell_type": "markdown",
      "source": [
        "#### Splitting the data for training and testing chronologically and also scalling the data"
      ],
      "metadata": {
        "id": "kNBXqkYuyy9u"
      }
    },
    {
      "cell_type": "code",
      "source": [
        "from sklearn.model_selection import train_test_split\n",
        "from sklearn.preprocessing import RobustScaler\n",
        "\n",
        "# Split data into training and testing sets (chronological split)\n",
        "train_data, test_data = train_test_split(encoded_data, test_size=0.2, shuffle=False)  # Shuffle=False for time-series\n",
        "\n",
        "# Separate features and target\n",
        "X_train = train_data.drop('next_points', axis=1)\n",
        "y_train = train_data['next_points']\n",
        "X_test = test_data.drop('next_points', axis=1)\n",
        "y_test = test_data['next_points']\n",
        "\n",
        "# Apply RobustScaler to training and testing data\n",
        "scaler = RobustScaler()\n",
        "X_train_scaled = scaler.fit_transform(X_train)\n",
        "X_test_scaled = scaler.transform(X_test)"
      ],
      "metadata": {
        "id": "Fz0M64Lx17qb"
      },
      "execution_count": null,
      "outputs": []
    },
    {
      "cell_type": "markdown",
      "source": [
        "## Let's commence the training"
      ],
      "metadata": {
        "id": "wu2-Kj-FzXOP"
      }
    },
    {
      "cell_type": "markdown",
      "source": [
        "First Up, Linear Regression. This bad boy is the favourite of our Professor. Well Gemini thinks it won't perform well for this task. I guess let's find out!"
      ],
      "metadata": {
        "id": "UGIIbLmB3Hfl"
      }
    },
    {
      "cell_type": "code",
      "source": [
        "from sklearn.linear_model import LinearRegression\n",
        "from sklearn.metrics import mean_squared_error, mean_absolute_error\n",
        "\n",
        "# Create and fit the linear regression model\n",
        "lr = LinearRegression()\n",
        "lr.fit(X_train_scaled, y_train)\n",
        "\n",
        "# Use the trained model to predict points on the testing set\n",
        "y_pred = lr.predict(X_test_scaled)\n",
        "\n",
        "# Root Mean Squared Error\n",
        "rmse = mean_squared_error(y_test, y_pred, squared=False)\n",
        "print(f\"Root Mean Squared Error: {rmse:.4f}\")\n",
        "\n",
        "# Mean Absolute Error\n",
        "mae = mean_absolute_error(y_test, y_pred)\n",
        "print(f\"Mean Absolute Error: {mae:.4f}\")"
      ],
      "metadata": {
        "id": "CkWvdEIe19uP",
        "colab": {
          "base_uri": "https://localhost:8080/"
        },
        "outputId": "c1352b3e-d778-420a-e26a-0158aa1dd9d4"
      },
      "execution_count": null,
      "outputs": [
        {
          "output_type": "stream",
          "name": "stdout",
          "text": [
            "Root Mean Squared Error: 1.9568\n",
            "Mean Absolute Error: 1.0832\n"
          ]
        }
      ]
    },
    {
      "cell_type": "markdown",
      "source": [
        "Well I don't really know why but gemini thinks Linear Regression sucks"
      ],
      "metadata": {
        "id": "Mb1xRLxj2ctg"
      }
    },
    {
      "cell_type": "markdown",
      "source": [
        "Now, lets go to Random Forest. Lets see if these bunch of trees are up to any good. (It takes a long time to fit the model, hope that's a good sign)"
      ],
      "metadata": {
        "id": "ComsN14e3iPb"
      }
    },
    {
      "cell_type": "code",
      "source": [
        "from sklearn.ensemble import RandomForestRegressor\n",
        "\n",
        "# Create and fit the Random Forest model\n",
        "rf = RandomForestRegressor()\n",
        "rf.fit(X_train_scaled, y_train)\n",
        "\n",
        "# Predict points on the testing set\n",
        "y_pred = rf.predict(X_test_scaled)\n",
        "\n",
        "# Root Mean Squared Error\n",
        "rmse = mean_squared_error(y_test, y_pred, squared=False)\n",
        "print(f\"Root Mean Squared Error: {rmse:.4f}\")\n",
        "\n",
        "# Mean Absolute Error\n",
        "mae = mean_absolute_error(y_test, y_pred)\n",
        "print(f\"Mean Absolute Error: {mae:.4f}\")"
      ],
      "metadata": {
        "id": "nwpccYrB1Tkk",
        "colab": {
          "base_uri": "https://localhost:8080/"
        },
        "outputId": "5c2e1b4a-7d84-4fe7-bc4a-bae72aa7291c"
      },
      "execution_count": null,
      "outputs": [
        {
          "output_type": "stream",
          "name": "stdout",
          "text": [
            "Root Mean Squared Error: 1.9980\n",
            "Mean Absolute Error: 1.1210\n"
          ]
        }
      ]
    },
    {
      "cell_type": "markdown",
      "source": [
        "XGBoost, oh I've heard so much about you. Let's see how you perform"
      ],
      "metadata": {
        "id": "Wr1KthvB6RjY"
      }
    },
    {
      "cell_type": "code",
      "source": [
        "from xgboost import XGBRegressor\n",
        "\n",
        "# Create and fit the XGBoost model\n",
        "xgb = XGBRegressor(objective='reg:squarederror')  # Set objective for regression\n",
        "xgb.fit(X_train_scaled, y_train)\n",
        "\n",
        "# Predict points on the testing set\n",
        "y_pred = xgb.predict(X_test_scaled)\n",
        "\n",
        "# Root Mean Squared Error\n",
        "rmse = mean_squared_error(y_test, y_pred, squared=False)\n",
        "print(f\"Root Mean Squared Error: {rmse:.4f}\")\n",
        "\n",
        "# Mean Absolute Error\n",
        "mae = mean_absolute_error(y_test, y_pred)\n",
        "print(f\"Mean Absolute Error: {mae:.4f}\")"
      ],
      "metadata": {
        "colab": {
          "base_uri": "https://localhost:8080/"
        },
        "id": "1rZ7ajTu25St",
        "outputId": "fbdbbf0d-ebfd-4f2c-ba1c-54e28892bdb6"
      },
      "execution_count": null,
      "outputs": [
        {
          "output_type": "stream",
          "name": "stdout",
          "text": [
            "Root Mean Squared Error: 1.9669\n",
            "Mean Absolute Error: 1.0404\n"
          ]
        }
      ]
    },
    {
      "cell_type": "markdown",
      "source": [
        "What a sham. Both random forest and xgboost had high expectation but the results are rather underwhelming."
      ],
      "metadata": {
        "id": "g_y3UgNt6aqD"
      }
    },
    {
      "cell_type": "markdown",
      "source": [
        "Let's bring in the big guns, a neural network now"
      ],
      "metadata": {
        "id": "rs8RkKKm6l8j"
      }
    },
    {
      "cell_type": "code",
      "source": [
        "from tensorflow.keras.models import Sequential\n",
        "from tensorflow.keras.layers import Dense, Dropout\n",
        "from tensorflow.keras.regularizers import l1\n",
        "\n",
        "# Define model architecture\n",
        "nn = Sequential()\n",
        "nn.add(Dense(units=128, activation='relu', input_shape=(X_train_scaled.shape[1],)))  # Input layer with number of features\n",
        "nn.add(Dropout(rate=0.2))                                                     # Dropout layer with 20% dropout rate\n",
        "nn.add(Dense(units=64, activation='relu', kernel_regularizer=l1(l=0.001)))    # Hidden layer with 64 neurons\n",
        "nn.add(Dropout(rate=0.2))                                                     # Dropout layer with 20% dropout rate\n",
        "nn.add(Dense(units=1))                                                        # Output layer with 1 neuron for predicted points\n",
        "\n",
        "# Compile the model\n",
        "nn.compile(loss='mse', optimizer='adam')\n",
        "\n",
        "# Train the model\n",
        "nn.fit(X_train_scaled, y_train, epochs=20, batch_size=32)\n",
        "\n",
        "# Make predictions on the testing set\n",
        "y_pred = nn.predict(X_test_scaled)\n",
        "\n",
        "# Calculate Root Mean Squared Error\n",
        "rmse = mean_squared_error(y_test, y_pred, squared=False)\n",
        "print(f\"Root Mean Squared Error: {rmse:.4f}\")\n",
        "\n",
        "# Mean Absolute Error\n",
        "mae = mean_absolute_error(y_test, y_pred)\n",
        "print(f\"Mean Absolute Error: {mae:.4f}\")"
      ],
      "metadata": {
        "colab": {
          "base_uri": "https://localhost:8080/"
        },
        "id": "9Oa1CKQe4t6S",
        "outputId": "1a8a2a74-8c15-4d46-f7f3-8bda496d65a0"
      },
      "execution_count": null,
      "outputs": [
        {
          "output_type": "stream",
          "name": "stdout",
          "text": [
            "Epoch 1/20\n",
            "4342/4342 [==============================] - 12s 3ms/step - loss: 4.9509\n",
            "Epoch 2/20\n",
            "4342/4342 [==============================] - 11s 3ms/step - loss: 4.6162\n",
            "Epoch 3/20\n",
            "4342/4342 [==============================] - 11s 3ms/step - loss: 4.5456\n",
            "Epoch 4/20\n",
            "4342/4342 [==============================] - 12s 3ms/step - loss: 4.4991\n",
            "Epoch 5/20\n",
            "4342/4342 [==============================] - 12s 3ms/step - loss: 4.4889\n",
            "Epoch 6/20\n",
            "4342/4342 [==============================] - 12s 3ms/step - loss: 4.4631\n",
            "Epoch 7/20\n",
            "4342/4342 [==============================] - 12s 3ms/step - loss: 4.4510\n",
            "Epoch 8/20\n",
            "4342/4342 [==============================] - 13s 3ms/step - loss: 4.4245\n",
            "Epoch 9/20\n",
            "4342/4342 [==============================] - 12s 3ms/step - loss: 4.3939\n",
            "Epoch 10/20\n",
            "4342/4342 [==============================] - 11s 3ms/step - loss: 4.3760\n",
            "Epoch 11/20\n",
            "4342/4342 [==============================] - 11s 3ms/step - loss: 4.3597\n",
            "Epoch 12/20\n",
            "4342/4342 [==============================] - 11s 3ms/step - loss: 4.3563\n",
            "Epoch 13/20\n",
            "4342/4342 [==============================] - 12s 3ms/step - loss: 4.3330\n",
            "Epoch 14/20\n",
            "4342/4342 [==============================] - 13s 3ms/step - loss: 4.3141\n",
            "Epoch 15/20\n",
            "4342/4342 [==============================] - 13s 3ms/step - loss: 4.2997\n",
            "Epoch 16/20\n",
            "4342/4342 [==============================] - 11s 3ms/step - loss: 4.2848\n",
            "Epoch 17/20\n",
            "4342/4342 [==============================] - 12s 3ms/step - loss: 4.2681\n",
            "Epoch 18/20\n",
            "4342/4342 [==============================] - 12s 3ms/step - loss: 4.2555\n",
            "Epoch 19/20\n",
            "4342/4342 [==============================] - 12s 3ms/step - loss: 4.2403\n",
            "Epoch 20/20\n",
            "4342/4342 [==============================] - 11s 3ms/step - loss: 4.2305\n",
            "1086/1086 [==============================] - 2s 1ms/step\n",
            "Root Mean Squared Error: 1.9726\n",
            "Mean Absolute Error: 1.0302\n"
          ]
        }
      ]
    },
    {
      "cell_type": "markdown",
      "source": [
        "I can't say I expected this. But ig it is best overall"
      ],
      "metadata": {
        "id": "1lgpNQLnDCeo"
      }
    },
    {
      "cell_type": "code",
      "source": [],
      "metadata": {
        "id": "tfnLAZxkL1r_"
      },
      "execution_count": null,
      "outputs": []
    }
  ]
}